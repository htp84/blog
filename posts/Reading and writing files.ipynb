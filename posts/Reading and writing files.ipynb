{
 "cells": [
  {
   "cell_type": "markdown",
   "metadata": {},
   "source": [
    "This is the second part of a series of posts showing data wrangling code in Python, R, and TSQL. This part shows read/write options for Excel and CSV. This is not directly applicable to SQL. Therefore, there is no column for TSQL in the table below.\n",
    "\n",
    "<!-- TEASER_END -->\n",
    "Both Pandas and R can read/write many other formats than Excel and CSV which I mention in this post. For more information about them, I recommend reading the following pages:<br>\n",
    "\n",
    "#### Python\n",
    "* [Pandas](https://pandas.pydata.org/pandas-docs/stable/user_guide/io.html)\n",
    "\n",
    "#### R\n",
    "\n",
    "* [readr](https://readr.tidyverse.org/) (flat files)\n",
    "* [dbplyr](https://dbplyr.tidyverse.org/articles/dbplyr.html) (databases)\n",
    "\n",
    "\n",
    "### Misc\n",
    "* In Python it is assumed that *numpy* is imported as *np* and *pandas* as *pd*.<br>\n",
    "* In R it is assumed that the *tidyverse* library is imported.<br>\n",
    "* If additional packages or installation is necessary it's specified in the table.\n",
    "\n",
    "# Reading and writing files\n",
    "|   Purpose                |  Python                                    | R      \n",
    "|   :---   |   :---   |   :---\n",
    "|Read csv|<pre><code>FILEPATH = \"path/to/file.csv\"<br>df = pd.read_csv(FILEPATH)</code></pre><br>[read_csv](https://pandas.pydata.org/pandas-docs/stable/generated/pandas.read_csv.html)|<code>FILEPATH <- \"path/to/file.csv\"<br><br>df <- read_csv(FILEPATH)<code><br><br>[read_delim](https://readr.tidyverse.org/reference/read_delim.html)\n",
    "|Write csv|<pre><code>FILEPATH = \"path/to/file.xlsx\"<br>d = {\"dep\":[\"a\", \"b\", \"c\"],<br>      \"x\":[4,3,2],<br>      \"y\":[5,6,7]}<br>df = pd.DataFrame(data=d)<br><br>df.to_csv(FILEPATH)</code></pre><br>[to_csv](https://pandas.pydata.org/pandas-docs/stable/generated/pandas.to_csv.html)|<code>FILEPATH <- \"path/to/file.csv\"<br>dep <- c(\"a\", \"b\", \"c\")<br>x <- c(4,3,2)<br>y <- c(5,6,7)<br>df <- data.frame(dep, x, y)<br><br>write_csv(df, FILEPATH)<br><br>[write_delim](https://readr.tidyverse.org/reference/write_delim.html)\n",
    "|Read excel|<pre><code>FILEPATH = \"path/to/file.xlsx\"<br>SHEET = \"sheet1\"<br><br>df = pd.read_excel(FILEPATH, sheetname=SHEET)</code></pre><br>[read_excel](https://pandas.pydata.org/pandas-docs/stable/generated/pandas.read_excel.html)|<code>library(readxl)<br>FILEPATH <- \"path/to/file.xlsx\"<br>SHEET <- \"sheet1\"<br><br>df <- read_excel(FILEPATH, sheet=SHEET)<code><br><br>[readxl](https://readxl.tidyverse.org/)\n",
    "|Write excel|<pre><code>FILEPATH = \"path/to/file.xlsx\"<br>d = {\"dep\":[\"a\", \"b\", \"c\"],<br>      \"x\":[4,3,2],<br>      \"y\":[5,6,7]}<br>df = pd.DataFrame(data=d)<br><br>df.to_excel(FILEPATH)</code></pre><br>[to_excel](https://pandas.pydata.org/pandas-docs/stable/generated/pandas.to_excel.html)|<code>library(writexl)<br>FILEPATH <- \"path/to/file.csv\"<br>dep <- c(\"a\", \"b\", \"c\")<br>x <- c(4,3,2)<br>y <- c(5,6,7)<br>df <- data.frame(dep, x, y)<br><br>write_xlsx(df, FILEPATH)<code><br><br>To be able to install writexl devtools must be installed via install.packages(). Also, Rtools <br>needs to be downloaded from the following link:<br>[Rtools](https://cran.r-project.org/bin/windows/Rtools/)<br> and writexl via the following code:<br><br><code>devtools::install_github(\"ropensci/writexl\")<code><br><br>[writexl](https://github.com/ropensci/writexl)"
   ]
  }
 ],
 "metadata": {
  "kernelspec": {
   "display_name": "Python 3",
   "language": "python",
   "name": "python3"
  },
   "nikola": {
   "category": "",
   "date": "2019-03-30 00:00:00 UTC",
   "description": "",
   "link": "",
   "slug": "python-r-tsql-comparison-reading-writing-files",
   "tags": "Python, R",
   "title": "Python, R and TSQL comparison - Reading and writing files",
   "type": "text"
  }
 },
 "nbformat": 4,
 "nbformat_minor": 2
}
