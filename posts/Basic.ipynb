{
 "cells": [
  {
   "cell_type": "markdown",
   "metadata": {},
   "source": [
    "This is the first part of a series of articles showing data wrangling code in Python, R and TSQL that produces equivalent result. In this article I show some basic operations.\n",
    "<!-- TEASER_END -->\n",
    "But first, a very short introdcution to each language.<br><br>\n",
    "**Python** is a general-purpose language and can be used for a lot of things, e.g. web sites, scientific computing and system programming.<br>\n",
    "\n",
    "**R** is a language for statistical computing and graphics. Hence, it's mostly used for scientific computing.<br>\n",
    "\n",
    "**TSQL** (Transact-SQL) is a SQL-dialect used in Microsoft SQL Server. SQL (Structured Query Language) is a domain-specific language and is used for managing data stored in a relational database management system.<br><br>\n",
    "Python and R is pretty easy to compare while SQL lacks some of its functionality, especially functionality written in this first article.\n",
    "\n",
    "Below are some links with more information about respective language:<br><br>\n",
    "**Python:**\n",
    "* [Homepage](https://www.python.org/)\n",
    "* [Wikipedia](https://en.wikipedia.org/wiki/Python_%28programming_language%29)\n",
    "\n",
    "**R:**\n",
    "* [Homepage](https://www.r-project.org/)\n",
    "* [Wikipedia](https://en.wikipedia.org/wiki/R_%28programming_language%29)\n",
    "\n",
    "**TSQL**\n",
    "* [Homepage](https://www.microsoft.com/en-us/sql-server/default.aspx)\n",
    "* [Wikipedia](https://en.wikipedia.org/wiki/SQL)\n",
    "\n",
    "### Misc\n",
    "* In Python it is assumed that *numpy* is imported as *np* and *pandas* as *pd*.<br>\n",
    "* In R it is assumed that the *tidyverse* library is imported.<br>\n",
    "* In TSQL it is assumed that Microsoft SQL server is installed.<br>\n",
    "* If additional packages or installation is necessary it's specified in the table.<br>\n",
    "* If there is no apparent equivalent way of doing an operation, *Not applicable* is used.\n",
    "\n",
    "# Basic\n",
    "|   Purpose                | Python       |R |TSQL|\n",
    "|   :---                    | :--- |   :---- | :---\n",
    "|Print to console       |<code>print(\"Hello\")</code>                           |    <code>print(\"Hello\")<code > | <code>PRINT('Hello')<code>|\n",
    "|Print with variables   |<pre><code>name = \"Henric\"<br>z = \"today\"<br><br>print(f\"Hello {name}, how are you {z}?\")</code></pre>|<code>name <- \"Henric\"<br>z <- \"today\"<br><br>print(paste(\"Hello\", name,\", how are you\", z,\"?\"))</code><br><br>or<br><br><code>install.packages(\"glue\")<br>library(glue)<br><br>glue(\"Hello {name}, how are you {z}?\")<code>|<code> DECLARE @name varchar(10)='Henric'<code><br> <code>DECLARE @z varchar(10)='today'<code><br><br><code>PRINT('Hello ' + @name + ', how are you ' + @z + '?')<code>|\n",
    "|Creating an array|<code> myArray = np.array([1,2,3])<code>| <code>myArray <- c(1,2,3)<code>|Not applicable|\n",
    "|for loop|<code>for i in x:<br>&nbsp;&nbsp;&nbsp;&nbsp;print(x)<code>|<code>for {i in x}&nbsp;{<br>&nbsp;&nbsp;print(i)<br>}<code>| Not applicable\n",
    "|while loop|<code>x = 0<code><br><code>while x < 10:<br>&nbsp;&nbsp;&nbsp;&nbsp;print(\"Hello\")<br>&nbsp;&nbsp;&nbsp;&nbsp;x += 1|<code>x <- 0<br>while (x<10){<br>&nbsp;&nbsp;print(x)<br>&nbsp;&nbsp;x <- x + 1<br>}<code>|<code>DECLARE @x INT = 0<br>WHILE x<10<br>BEGIN<br>&nbsp;&nbsp;PRINT('Hello')<br>&nbsp;&nbsp;SET @x = @x + 1<br>END<code>\n",
    "|Creating a 2d matrix| <code>myMatrix = np.array([[1,2,3],[4,5,6]])<code>|<code>myMatrix <- matrix(c(1,2,3,4,5,6), nrow=2)<code><br><br> nrow can be changed to ncol| Not applicable\n",
    "|Scalar operations,<br>i.e. elementwise operations| <code>mat = np.array([[1,3,5],[2,4,6]])<br><br>mat + 5<br>mat - 5<br>mat  5<br>mat / 5<code>|<code>mat <- matrix(c(1,2,3,4,5,6), nrow=2)<br><br>mat + 5<br>mat - 5<br>mat  5<br>mat / 5<code>| Not applicable\n",
    "|Array and Matrix multiplication| <code>mat1 = np.array([[1,3,5],[2,4,6]])<br>mat2 = np.array([[1,4],[2,5],[3,6]])<br><br>mat1 @ mat2<code><br><br>or<br><br><code>np.dot(mat1, mat2)<code>|<code>mat1 <- matrix(c(1,2,3,4,5,6), nrow=2)<br>mat2 <- matrix(c(1,2,3,4,5,6), nrow=3)<br><br>mat1 %% mat2<code>|Not applicable\n",
    "|Creating a dataframe|<pre><code>d = {\"dep\":[\"a\", \"b\", \"c\"],<br>      \"x\":[4,3,2],<br>      \"y\":[5,6,7]}<br><br>df = pd.DataFrame(data=d)<code></pre>[DataFrame](https://pandas.pydata.org/pandas-docs/stable/generated/pandas.DataFrame.html)|<code>dep <- c(\"a\", \"b\", \"c\")<br>x <- c(4,3,2)<br>y <- c(5,6,7)<br><br>df <- data.frame(dep, x, y)<code><br><br>or<br><br><code>df <- tibble(dep, x, y)<code><br><br>[data.frame](https://www.rdocumentation.org/packages/base/versions/3.5.1/topics/data.frame)<br>[tibble](https://tibble.tidyverse.org/)|Not applicable\n",
    "|Install packages|<pre><code>pip install package<code></pre>or if using conda<pre><code>conda install package<code></pre>|<code>install.packages(\"package\")<code>|Not applicable\n",
    "|Uninstall packages|<pre><code>pip uninstall package<code></pre>or if using conda<br><pre><code>conda remove package<code></pre>|<code>remove.packages(\"package\")<code>|Not applicable\n",
    "|Import package| <pre><code>import package<code></pre>or<pre><code>from package import something<code></pre>|<code>library(package)<code>|Not applicable"
   ]
  }
 ],
 "metadata": {
  "kernelspec": {
   "display_name": "Python 3",
   "language": "python",
   "name": "python3"
  },
  "nikola": {
   "category": "",
   "date": "2019-03-16 00:00:00 UTC",
   "description": "",
   "link": "",
   "slug": "python-r-tsql-compariso-basic",
   "tags": "Python, R, TSQL",
   "title": "Python, R and TSQL comparison - Basic",
   "type": "text",
   "updated": "2019-03-24 13:39:00 UTC+1"
  }
 },
 "nbformat": 4,
 "nbformat_minor": 2
}
